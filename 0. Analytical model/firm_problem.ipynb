{
 "cells": [
  {
   "cell_type": "markdown",
   "metadata": {},
   "source": [
    "# An analytical theory of firm selection \n",
    "\n",
    "This notebook solves the maximisation problem of a firm with access to a risky technology. The firm has access to a production technology that is stochastic and has an exogenous probability of default. The firm chooses the optimal level of debt and labor input given the interest rate and the probability of default. \n",
    "\n",
    "The production technology is Cobb-Douglas: \n",
    "\n",
    "$$Y = z * \\epsilon * l^\\alpha$$\n",
    "\n",
    "where $Y$ is the output, $z$ is the permanent productivity, $\\epsilon$ is a shock with log-normal distribution, l$$ is the labor input and $alpha$ is the Cobb-Douglas exponent.  \n",
    "\n",
    "The firm has some net worth $n$, and must pay its workers wages $w*l$, so that its borrowings are defined as $d = w*l - n$. The firm can borrow some cash $d$ from a bank at a rate $\\tilde{r}$, and profits are given by: \n",
    "$$\\pi= z\\epsilon l^\\alpha - \\tilde{r}d$$\n",
    "\n",
    "The firm will default if the profits are less than the borrowings, i.e. if: \n",
    "$$z\\epsilon l^\\alpha - \\tilde{r}d < 0$$\n",
    "\n",
    "The bank will charge an interest rate $\\tilde{r}$ that depends on the probability of default. The probability of default is given by the integral of the probability of the shock being less than the borrowing. \n",
    "\n",
    "The maximisation problem can be written as: \n",
    "\n",
    "$$\\begin{aligned}\n",
    "& \\max _{\\{l, d\\}} \\mathbb{E}_\\epsilon \\max \\left\\{z \\epsilon l^\\alpha-\\tilde{r} d, 0\\right\\} \\\\\n",
    "\\text { s.t. } & (1-H(\\bar{e})) \\tilde{r} d+(1-\\mu) \\int_0^{\\bar{\\varepsilon}} z \\epsilon l^\\alpha \\mathrm{d} H(\\epsilon) \\geq r d \\\\\n",
    "& d=w l-n \\\\\n",
    "& z \\bar{e} l^\\alpha-\\tilde{r} d=0\n",
    "\\end{aligned}$$"
   ]
  },
  {
   "cell_type": "markdown",
   "metadata": {},
   "source": [
    "We first define the parameters with a grid on $z$ and $\\epsilon$. "
   ]
  },
  {
   "cell_type": "code",
   "execution_count": 1,
   "metadata": {},
   "outputs": [],
   "source": [
    "import numpy as np\n",
    "import matplotlib.pyplot as plt\n",
    "from scipy.special import roots_hermite\n",
    "from scipy import optimize\n",
    "from scipy import optimize.minimize_scalar\n",
    "\n",
    "# Permanent productivity\n",
    "z_min = 0.8\n",
    "z_max = 2\n",
    "nZ = 10\n",
    "z_grid = np.linspace(z_min, z_max, nZ)\n",
    "\n",
    "# Shock\n",
    "mu = 0.0       # Mean of ln(epsilon)\n",
    "sigma = 0.3    # Standard deviation of ln(epsilon)\n",
    "\n",
    "nE = 100\n",
    "nodes, weights = roots_hermite(nE)\n",
    "e_grid = np.exp(np.sqrt(2) * sigma * nodes + mu)\n",
    "e_prob = weights / np.sqrt(np.pi)\n",
    "e_cdf = np.cumsum(e_prob)\n",
    "\n",
    "# Precompute cumulative sums for interpolation\n",
    "profits_cumsum_base = np.cumsum(e_prob * e_grid)\n",
    "profits_cumsum_base = profits_cumsum_base  # Ensure it's an array\n",
    "\n",
    "# Parameters\n",
    "mu = 0.95\n",
    "w = 1\n",
    "alpha = 1/2\n",
    "n = 0.01\n",
    "r = 1.05\n",
    "z = 1 "
   ]
  },
  {
   "cell_type": "code",
   "execution_count": 2,
   "metadata": {},
   "outputs": [
    {
     "name": "stderr",
     "output_type": "stream",
     "text": [
      "/var/folders/y9/jg30tbps6k92mh06j253lf200000gn/T/ipykernel_45613/4189568308.py:3: RuntimeWarning: divide by zero encountered in divide\n",
      "  r_tilde = (z * epsilon_bar * l**alpha) / d\n",
      "/var/folders/y9/jg30tbps6k92mh06j253lf200000gn/T/ipykernel_45613/4189568308.py:6: RuntimeWarning: invalid value encountered in multiply\n",
      "  bank_error = (1 - default_probability) * r_tilde * d + (1-mu) * default_probability * expected_profits - r * d\n"
     ]
    },
    {
     "data": {
      "image/png": "[encoded data removed]",
      "text/plain": [
       "<Figure size 640x480 with 1 Axes>"
      ]
     },
     "metadata": {},
     "output_type": "display_data"
    }
   ],
   "source": [
    "def default_probability_obj(epsilon_bar, l, z, alpha, w, n, r): \n",
    "    d = w * l - n \n",
    "    r_tilde = (z * epsilon_bar * l**alpha) / d \n",
    "    default_probability = np.interp(epsilon_bar, e_grid, e_cdf)\n",
    "    expected_profits = l**alpha * np.interp(epsilon_bar, e_grid, profits_cumsum_base)\n",
    "    bank_error = (1 - default_probability) * r_tilde * d + (1-mu) * default_probability * expected_profits - r * d\n",
    "    return bank_error\n",
    "\n",
    "def profits(l, z, alpha, w, n, r):\n",
    "    d = w * l - n \n",
    "    res = optimize.root(default_probability_obj, 0.5, args=(l, z, alpha, w, n, r), method='hybr')\n",
    "    if res.success == False: \n",
    "        return np.inf \n",
    "    epsilon_bar = res.x[0]\n",
    "    r_tilde = (z * epsilon_bar * l**alpha) / d \n",
    "    profits_temp = z * e_grid * l**alpha - r_tilde * d\n",
    "    profits = np.sum(e_prob * np.maximum(profits_temp, 0))\n",
    "    return -profits\n",
    "\n",
    "def find_max_l(z, alpha, w, n, r):\n",
    "    l_grid = np.linspace(0.01, 10, 1000)\n",
    "    profits_grid = profits_vec(l_grid, z, alpha, w, n, r)\n",
    "    # Find the index of the first value that is equal to inf\n",
    "    inf_index = np.where(np.isinf(profits_grid))[0]\n",
    "    if len(inf_index) > 0:\n",
    "        l_max = l_grid[inf_index[0] - 1]  # Use the last valid value before inf\n",
    "    \n",
    "    l_grid = np.linspace(0.01, l_max, 1000)\n",
    "    return l_grid\n",
    "\n",
    "profits_vec = np.vectorize(profits, excluded=['z', 'alpha', 'w', 'n', 'r'])\n",
    "\n",
    "l_grid = find_max_l(z, alpha, w, n, r)\n",
    "profits_grid = profits_vec(l_grid, z, alpha, w, n, r)\n",
    "plt.plot(l_grid, -profits_grid)\n",
    "plt.xlabel('Labor Input (l)')\n",
    "plt.ylabel('Profit')\n",
    "plt.title('Profit Function of the Firm')\n",
    "plt.show()"
   ]
  },
  {
   "cell_type": "code",
   "execution_count": 3,
   "metadata": {},
   "outputs": [
    {
     "name": "stderr",
     "output_type": "stream",
     "text": [
      "/var/folders/y9/jg30tbps6k92mh06j253lf200000gn/T/ipykernel_45613/4189568308.py:3: RuntimeWarning: divide by zero encountered in divide\n",
      "  r_tilde = (z * epsilon_bar * l**alpha) / d\n",
      "/var/folders/y9/jg30tbps6k92mh06j253lf200000gn/T/ipykernel_45613/4189568308.py:6: RuntimeWarning: invalid value encountered in multiply\n",
      "  bank_error = (1 - default_probability) * r_tilde * d + (1-mu) * default_probability * expected_profits - r * d\n"
     ]
    },
    {
     "ename": "NameError",
     "evalue": "name 'minimize_scalar' is not defined",
     "output_type": "error",
     "traceback": [
      "\u001b[0;31m---------------------------------------------------------------------------\u001b[0m",
      "\u001b[0;31mNameError\u001b[0m                                 Traceback (most recent call last)",
      "Cell \u001b[0;32mIn[3], line 29\u001b[0m\n\u001b[1;32m     27\u001b[0m profits_eq \u001b[38;5;241m=\u001b[39m np\u001b[38;5;241m.\u001b[39mzeros((nZ))\n\u001b[1;32m     28\u001b[0m \u001b[38;5;28;01mfor\u001b[39;00m iz, z \u001b[38;5;129;01min\u001b[39;00m \u001b[38;5;28menumerate\u001b[39m(z_grid):\n\u001b[0;32m---> 29\u001b[0m     r_tilde[iz], default_probability[iz], l_opt[iz], profits_eq[iz] \u001b[38;5;241m=\u001b[39m get_eq_default_prob(z, alpha, w, n, r)\n\u001b[1;32m     31\u001b[0m fig, axs \u001b[38;5;241m=\u001b[39m plt\u001b[38;5;241m.\u001b[39msubplots(\u001b[38;5;241m2\u001b[39m, \u001b[38;5;241m2\u001b[39m, figsize\u001b[38;5;241m=\u001b[39m(\u001b[38;5;241m12\u001b[39m, \u001b[38;5;241m10\u001b[39m))\n\u001b[1;32m     32\u001b[0m fig\u001b[38;5;241m.\u001b[39msuptitle(\u001b[38;5;124m'\u001b[39m\u001b[38;5;124mFirm Equilibrium Results\u001b[39m\u001b[38;5;124m'\u001b[39m)\n",
      "Cell \u001b[0;32mIn[3], line 8\u001b[0m, in \u001b[0;36mget_eq_default_prob\u001b[0;34m(z, alpha, w, n, r)\u001b[0m\n\u001b[1;32m      5\u001b[0m l_opt \u001b[38;5;241m=\u001b[39m np\u001b[38;5;241m.\u001b[39margmin(profits_grid)\n\u001b[1;32m      6\u001b[0m l \u001b[38;5;241m=\u001b[39m l_grid[l_opt]\n\u001b[0;32m----> 8\u001b[0m res \u001b[38;5;241m=\u001b[39m minimize_scalar(profits, method\u001b[38;5;241m=\u001b[39m\u001b[38;5;124m'\u001b[39m\u001b[38;5;124mgolden\u001b[39m\u001b[38;5;124m'\u001b[39m, bracket \u001b[38;5;241m=\u001b[39m (l\u001b[38;5;241m*\u001b[39m\u001b[38;5;241m0.9\u001b[39m,l\u001b[38;5;241m*\u001b[39m\u001b[38;5;241m1.1\u001b[39m), args\u001b[38;5;241m=\u001b[39m(z, alpha, w, n, r)) \n\u001b[1;32m      9\u001b[0m \u001b[38;5;28;01mif\u001b[39;00m res\u001b[38;5;241m.\u001b[39msuccess \u001b[38;5;241m==\u001b[39m \u001b[38;5;28;01mFalse\u001b[39;00m: \n\u001b[1;32m     10\u001b[0m     \u001b[38;5;28mprint\u001b[39m(\u001b[38;5;124m\"\u001b[39m\u001b[38;5;124mDidn\u001b[39m\u001b[38;5;124m'\u001b[39m\u001b[38;5;124mt find an optimum for z  =\u001b[39m\u001b[38;5;124m\"\u001b[39m, z)\n",
      "\u001b[0;31mNameError\u001b[0m: name 'minimize_scalar' is not defined"
     ]
    }
   ],
   "source": [
    "def get_eq_default_prob(z, alpha, w, n, r):\n",
    "    \n",
    "    l_grid = find_max_l(z, alpha, w, n, r)\n",
    "    profits_grid = profits_vec(l_grid, z, alpha, w, n, r)\n",
    "    l_opt = np.argmin(profits_grid)\n",
    "    l = l_grid[l_opt]\n",
    "    \n",
    "    res = minimize_scalar(profits, method='golden', bracket = (l*0.9,l*1.1), args=(z, alpha, w, n, r)) \n",
    "    if res.success == False: \n",
    "        print(\"Didn't find an optimum for z  =\", z)\n",
    "    l = res.x\n",
    "    \n",
    "    res = optimize.root(default_probability_obj, 0.5, args=(l, z, alpha, w, n, r), method='hybr') \n",
    "    if res.success == False: \n",
    "        print(\"Didn't find an equilibrium epsilon_bar for z  =\", z)\n",
    "    epsilon_bar = res.x[0]\n",
    "    \n",
    "    d = w * l - n \n",
    "    r_tilde = (z * epsilon_bar * l**alpha) / d \n",
    "    default_probability = np.interp(epsilon_bar, e_grid, e_cdf)\n",
    "    \n",
    "    return r_tilde, default_probability, l, -profits(l, z, alpha, w, n, r)\n",
    "\n",
    "r_tilde = np.zeros((nZ))\n",
    "default_probability  = np.zeros((nZ))\n",
    "l_opt = np.zeros((nZ))\n",
    "profits_eq = np.zeros((nZ))\n",
    "for iz, z in enumerate(z_grid):\n",
    "    r_tilde[iz], default_probability[iz], l_opt[iz], profits_eq[iz] = get_eq_default_prob(z, alpha, w, n, r)\n",
    "\n",
    "fig, axs = plt.subplots(2, 2, figsize=(12, 10))\n",
    "fig.suptitle('Firm Equilibrium Results')\n",
    "\n",
    "axs[0, 0].plot(z_grid, default_probability)\n",
    "axs[0, 0].set_title('Default Probability')\n",
    "axs[0, 0].set_xlabel('Productivity (z)')\n",
    "axs[0, 0].set_ylabel('Probability')\n",
    "\n",
    "axs[0, 1].plot(z_grid, r_tilde)\n",
    "axs[0, 1].set_title('Interest Rate')\n",
    "axs[0, 1].set_xlabel('Productivity (z)')\n",
    "axs[0, 1].set_ylabel('r_tilde')\n",
    "\n",
    "axs[1, 0].plot(z_grid, l_opt)\n",
    "axs[1, 0].set_title('Labor Input')\n",
    "axs[1, 0].set_xlabel('Productivity (z)')\n",
    "axs[1, 0].set_ylabel('Labor (l)')\n",
    "\n",
    "axs[1, 1].plot(z_grid, profits_eq)\n",
    "axs[1, 1].set_title('Equilibrium Profits')\n",
    "axs[1, 1].set_xlabel('Productivity (z)')\n",
    "axs[1, 1].set_ylabel('Profits')\n",
    "\n",
    "plt.tight_layout()\n",
    "plt.show()\n"
   ]
  },
  {
   "cell_type": "code",
   "execution_count": null,
   "metadata": {},
   "outputs": [
    {
     "data": {
      "text/plain": [
       "array([0.00879598, 0.01039423, 0.01143727, 0.01215651, 0.01267267,\n",
       "       0.01305494, 0.01334653, 0.01357362, 0.01365136, 0.0136515 ])"
      ]
     },
     "execution_count": 20,
     "metadata": {},
     "output_type": "execute_result"
    }
   ],
   "source": [
    "default_probability"
   ]
  },
  {
   "cell_type": "code",
   "execution_count": null,
   "metadata": {},
   "outputs": [],
   "source": []
  }
 ],
 "metadata": {
  "kernelspec": {
   "display_name": "base",
   "language": "python",
   "name": "python3"
  },
  "language_info": {
   "codemirror_mode": {
    "name": "ipython",
    "version": 3
   },
   "file_extension": ".py",
   "mimetype": "text/x-python",
   "name": "python",
   "nbconvert_exporter": "python",
   "pygments_lexer": "ipython3",
   "version": "3.12.4"
  }
 },
 "nbformat": 4,
 "nbformat_minor": 2
}
